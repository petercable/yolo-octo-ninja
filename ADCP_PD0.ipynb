{
 "cells": [
  {
   "cell_type": "code",
   "execution_count": 4,
   "metadata": {
    "collapsed": true
   },
   "outputs": [],
   "source": [
    "import struct\n",
    "\n",
    "RSN_SAMPLE_RAW_DATA = bytearray([\n",
    "    127, 127, 104,   8,   0,   6,  18,   0,  77,   0, 142,   0, 176,   3,  66,   5, 212,   6,   0,   0,\n",
    "     50,  40, 200,  65,   0,  53,   4, 100,   1,   0, 128,  12, 192,   2,   1,  64,  17,   0, 208,   7,\n",
    "      0,   1,   0,   0,   0,   0,   0,   0, 125,  61, 235,  15,  16,  13,   1,   5,  50,   0, 198,   0,\n",
    "    130,   0,   0,   6, 255,  35, 229,   9,   0,   0, 255,   0,  12,  72,   0,   0,  20, 128,   0,   5,\n",
    "      0,  13,   3,  15,  21,  33,   2,  46,   0,   0,   0, 243,   5,   0,   0, 101,  20, 207, 237,  47,\n",
    "    238,  35,   0,   2,   8,   0,   0,   0,   0,   0,   0, 116, 169,  88,  79,  79,   0,   0,   0,   0,\n",
    "      0,   0,   0,   4, 144,  81, 242, 255, 255,   0,   0,   0,   0,   0,  20,  13,   3,  15,  21,  33,\n",
    "      2,  46,   0,   1,  19,   0, 244, 255, 179,   0,  77,   0,   0, 128,   0, 128,   0, 128,   0, 128,\n",
    "      0, 128,   0, 128,   0, 128,   0, 128,   0, 128,   0, 128,   0, 128,   0, 128,   0, 128,   0, 128,\n",
    "      0, 128,   0, 128,   0, 128,   0, 128,   0, 128,   0, 128,   0, 128,   0, 128,   0, 128,   0, 128,\n",
    "      0, 128,   0, 128,   0, 128,   0, 128,   0, 128,   0, 128,   0, 128,   0, 128,   0, 128,   0, 128,\n",
    "      0, 128,   0, 128,   0, 128,   0, 128,   0, 128,   0, 128,   0, 128,   0, 128,   0, 128,   0, 128,\n",
    "      0, 128,   0, 128,   0, 128,   0, 128,   0, 128,   0, 128,   0, 128,   0, 128,   0, 128,   0, 128,\n",
    "      0, 128,   0, 128,   0, 128,   0, 128,   0, 128,   0, 128,   0, 128,   0, 128,   0, 128,   0, 128,\n",
    "      0, 128,   0, 128,   0, 128,   0, 128,   0, 128,   0, 128,   0, 128,   0, 128,   0, 128,   0, 128,\n",
    "      0, 128,   0, 128,   0, 128,   0, 128,   0, 128,   0, 128,   0, 128,   0, 128,   0, 128,   0, 128,\n",
    "      0, 128,   0, 128,   0, 128,   0, 128,   0, 128,   0, 128,   0, 128,   0, 128,   0, 128,   0, 128,\n",
    "      0, 128,   0, 128,   0, 128,   0, 128,   0, 128,   0, 128,   0, 128,   0, 128,   0, 128,   0, 128,\n",
    "      0, 128,   0, 128,   0, 128,   0, 128,   0, 128,   0, 128,   0, 128,   0, 128,   0, 128,   0, 128,\n",
    "      0, 128,   0, 128,   0, 128,   0, 128,   0, 128,   0, 128,   0, 128,   0, 128,   0, 128,   0, 128,\n",
    "      0, 128,   0, 128,   0, 128,   0, 128,   0, 128,   0, 128,   0, 128,   0, 128,   0, 128,   0, 128,\n",
    "      0, 128,   0, 128,   0, 128,   0, 128,   0, 128,   0, 128,   0, 128,   0, 128,   0, 128,   0, 128,\n",
    "      0, 128,   0, 128,   0, 128,   0, 128,   0, 128,   0, 128,   0, 128,   0, 128,   0, 128,   0, 128,\n",
    "      0, 128,   0, 128,   0, 128,   0, 128,   0, 128,   0, 128,   0, 128,   0, 128,   0, 128,   0, 128,\n",
    "      0, 128,   0, 128,   0, 128,   0, 128,   0, 128,   0, 128,   0, 128,   0, 128,   0, 128,   0, 128,\n",
    "      0, 128,   0, 128,   0, 128,   0, 128,   0, 128,   0, 128,   0, 128,   0, 128,   0, 128,   0, 128,\n",
    "      0, 128,   0, 128,   0, 128,   0, 128,   0, 128,   0, 128,   0, 128,   0, 128,   0, 128,   0, 128,\n",
    "      0, 128,   0, 128,   0, 128,   0, 128,   0, 128,   0, 128,   0, 128,   0, 128,   0, 128,   0, 128,\n",
    "      0, 128,   0, 128,   0, 128,   0, 128,   0, 128,   0, 128,   0, 128,   0, 128,   0, 128,   0, 128,\n",
    "      0, 128,   0, 128,   0, 128,   0, 128,   0, 128,   0, 128,   0, 128,   0, 128,   0, 128,   0, 128,\n",
    "      0, 128,   0, 128,   0, 128,   0, 128,   0, 128,   0, 128,   0, 128,   0, 128,   0, 128,   0, 128,\n",
    "      0, 128,   0, 128,   0, 128,   0, 128,   0, 128,   0, 128,   0, 128,   0, 128,   0, 128,   0, 128,\n",
    "      0, 128,   0, 128,   0, 128,   0, 128,   0, 128,   0, 128,   0, 128,   0, 128,   0, 128,   0, 128,\n",
    "      0, 128,   0, 128,   0, 128,   0, 128,   0, 128,   0, 128,   0, 128,   0, 128,   0, 128,   0, 128,\n",
    "      0, 128,   0, 128,   0, 128,   0, 128,   0, 128,   0, 128,   0, 128,   0, 128,   0, 128,   0, 128,\n",
    "      0, 128,   0, 128,   0, 128,   0, 128,   0, 128,   0, 128,   0, 128,   0, 128,   0, 128,   0, 128,\n",
    "      0, 128,   0, 128,   0, 128,   0, 128,   0, 128,   0, 128,   0, 128,   0, 128,   0, 128,   0, 128,\n",
    "      0, 128,   0, 128,   0, 128,   0, 128,   0, 128,   0, 128,   0, 128,   0, 128,   0, 128,   0, 128,\n",
    "      0, 128,   0, 128,   0, 128,   0, 128,   0, 128,   0, 128,   0, 128,   0, 128,   0, 128,   0, 128,\n",
    "      0, 128,   0, 128,   0, 128,   0, 128,   0, 128,   0, 128,   0, 128,   0, 128,   0, 128,   0, 128,\n",
    "      0, 128,   0, 128,   0, 128,   0, 128,   0, 128,   0, 128,   0, 128,   0, 128,   0, 128,   0, 128,\n",
    "      0, 128,   0, 128,   0, 128,   0, 128,   0, 128,   0, 128,   0, 128,   0, 128,   0, 128,   0, 128,\n",
    "      0, 128,   0, 128,   0, 128,   0, 128,   0, 128,   0, 128,   0, 128,   0, 128,   0, 128,   0, 128,\n",
    "      0, 128,   0, 128,   0, 128,   0, 128,   0, 128,   0, 128,   0, 128,   0, 128,   0, 128,   0, 128,\n",
    "      0, 128,   0, 128,   0, 128,   0, 128,   0, 128,   0, 128,   0, 128,   0, 128,   0, 128,   0, 128,\n",
    "      0, 128,   0, 128,   0, 128,   0, 128,   0, 128,   0, 128,   0, 128,   0, 128,   0, 128,   0, 128,\n",
    "      0, 128,   0, 128,   0, 128,   0, 128,   0, 128,   0, 128,   0, 128,   0, 128,   0, 128,   0, 128,\n",
    "      0, 128,   0, 128,   0,   2,  77,  89,  87,  93,  15,  13,  21,  10,   7,   4,   8,   9,   7,   4,\n",
    "     16,   4,   7,   8,  11,   9,   5,   9,  11,   6,   7,   5,  11,   9,   7,  11,   5,   6,   5,   8,\n",
    "      7,   9,   9,  13,   3,   6,   6,   3,   8,  10,  10,  11,   7,   7,   5,  10,   6,   9,   4,   4,\n",
    "      2,   6,   6,   7,   5,   6,   5,   2,   3,  10,   4,   4,  12,   7,   7,   7,  13,  12,   7,   5,\n",
    "      2,  10,  11,   9,   4,   7,   6,   2,   6,  11,  10,  14,   6,  10,   3,   7,   2,   7,   4,   2,\n",
    "      6,   9,   4,  10,   8,   4,   4,   4,   6,  11,   5,   3,  11,   4,   2,   6,  10,   6,   4,   5,\n",
    "      2,   7,   5,  10,  12,   5,   7,   7,   7,  14,   5,   6,  13,   6,   7,   9,   4,   2,   4,   8,\n",
    "      7,   9,   6,   9,   6,  11,   7,   5,   7,  17,   2,   7,   7,   3,   4,   4,   8,  10,   3,   4,\n",
    "      7,   9,   9,   8,   6,   3,   2,   7,   9,   7,   4,   7,   7,   6,   4,   9,   4,   6,   3,   7,\n",
    "      6,  10,   4,   4,   3,  13,   6,  13,  14,   9,   5,   6,   7,   4,   3,   4,   4,   8,   2,   9,\n",
    "      4,  13,   4,   4,   9,   3,   2,   7,   7,  10,   3,   4,   4,   1,   6,   9,   4,  11,  10,  10,\n",
    "      6,   9,   7,   9,   7,   6,   5,   8,   9,  12,   2,  10,   3,   2,   7,   4,   8,   7,   5,   6,\n",
    "      9,   9,   6,   6,   6,  10,   4,   6,   5,  12,   6,   2,   5,  12,   4,   8,   4,   7,   3,   9,\n",
    "      9,   8,   6,   6,   4,   6,   5,   2,   4,  11,   4,  11,  11,  14,   3,   5,   9,  12,   5,   3,\n",
    "      2,  11,   0,   0,   0,   0,   0,   0,   0,   0,   0,   0,   0,   0,   0,   0,   0,   0,   0,   0,\n",
    "      0,   0,   0,   0,   0,   0,   0,   0,   0,   0,   0,   0,   0,   0,   0,   0,   0,   0,   0,   0,\n",
    "      0,   0,   0,   0,   0,   0,   0,   0,   0,   0,   0,   0,   0,   0,   0,   0,   0,   0,   0,   0,\n",
    "      0,   0,   0,   0,   0,   0,   0,   0,   0,   0,   0,   0,   0,   0,   0,   0,   0,   0,   0,   0,\n",
    "      0,   0,   0,   0,   0,   0,   0,   0,   0,   0,   0,   0,   0,   0,   0,   0,   0,   0,   0,   0,\n",
    "      0,   0,   0,   0,   0,   0,   0,   0,   0,   0,   0,   0,   0,   0,   0,   0,   0,   0,   0,   0,\n",
    "      0,   0,   0,   0,   0,   0,   0,   3,  97,  93, 113,  99,  47,  47,  56,  51,  41,  42,  48,  46,\n",
    "     40,  42,  48,  46,  40,  41,  48,  46,  40,  41,  47,  46,  41,  41,  47,  46,  40,  41,  47,  46,\n",
    "     40,  42,  47,  46,  40,  42,  47,  46,  40,  41,  46,  45,  40,  41,  48,  46,  40,  41,  48,  46,\n",
    "     40,  42,  47,  46,  40,  42,  48,  46,  40,  42,  48,  46,  40,  42,  47,  46,  40,  41,  47,  46,\n",
    "     40,  41,  47,  46,  39,  41,  47,  46,  40,  41,  47,  46,  40,  42,  47,  45,  40,  41,  47,  46,\n",
    "     40,  42,  47,  45,  41,  42,  47,  46,  40,  42,  48,  46,  40,  42,  47,  46,  40,  42,  47,  46,\n",
    "     40,  41,  47,  46,  39,  41,  48,  46,  40,  42,  47,  47,  40,  42,  47,  46,  40,  41,  48,  46,\n",
    "     40,  41,  48,  46,  41,  41,  47,  46,  39,  41,  47,  45,  40,  41,  48,  46,  40,  41,  47,  46,\n",
    "     40,  41,  48,  45,  40,  41,  46,  45,  40,  41,  47,  46,  40,  42,  48,  47,  40,  41,  48,  45,\n",
    "     40,  41,  47,  45,  40,  41,  47,  46,  40,  42,  47,  46,  40,  41,  47,  45,  40,  41,  47,  45,\n",
    "     40,  41,  47,  46,  40,  41,  48,  46,  40,  41,  47,  46,  40,  41,  46,  46,  40,  41,  47,  46,\n",
    "     41,  41,  48,  46,  40,  41,  48,  46,  40,  42,  48,  46,  40,  41,  47,  45,  40,  41,  47,  45,\n",
    "     40,  42,  47,  46,  40,  41,  47,  45,  40,  41,  47,  46,  40,  41,  47,  46,  40,  42,  47,  46,\n",
    "     40,  41,  46,  45,  41,  41,  47,  46,  40,  41,  46,  45,  40,  41,  47,  46,  40,  42,  47,  46,\n",
    "     40,  41,  47,  46,   0,   0,   0,   0,   0,   0,   0,   0,   0,   0,   0,   0,   0,   0,   0,   0,\n",
    "      0,   0,   0,   0,   0,   0,   0,   0,   0,   0,   0,   0,   0,   0,   0,   0,   0,   0,   0,   0,\n",
    "      0,   0,   0,   0,   0,   0,   0,   0,   0,   0,   0,   0,   0,   0,   0,   0,   0,   0,   0,   0,\n",
    "      0,   0,   0,   0,   0,   0,   0,   0,   0,   0,   0,   0,   0,   0,   0,   0,   0,   0,   0,   0,\n",
    "      0,   0,   0,   0,   0,   0,   0,   0,   0,   0,   0,   0,   0,   0,   0,   0,   0,   0,   0,   0,\n",
    "      0,   0,   0,   0,   0,   0,   0,   0,   0,   0,   0,   0,   0,   0,   0,   0,   0,   0,   0,   0,\n",
    "      0,   0,   0,   0,   0,   0,   0,   0,   0,   4, 100, 100, 100, 100,   0,   0,   0,   0,   0,   0,\n",
    "      0,   0,   0,   0,   0,   0,   0,   0,   0,   0,   0,   0,   0,   0,   0,   0,   0,   0,   0,   0,\n",
    "      0,   0,   0,   0,   0,   0,   0,   0,   0,   0,   0,   0,   0,   0,   0,   0,   0,   0,   0,   0,\n",
    "      0,   0,   0,   0,   0,   0,   0,   0,   0,   0,   0,   0,   0,   0,   0,   0,   0,   0,   0,   0,\n",
    "      0,   0,   0,   0,   0,   0,   0,   0,   0,   0,   0,   0,   0,   0,   0,   0,   0,   0,   0,   0,\n",
    "      0,   0,   0,   0,   0,   0,   0,   0,   0,   0,   0,   0,   0,   0,   0,   0,   0,   0,   0,   0,\n",
    "      0,   0,   0,   0,   0,   0,   0,   0,   0,   0,   0,   0,   0,   0,   0,   0,   0,   0,   0,   0,\n",
    "      0,   0,   0,   0,   0,   0,   0,   0,   0,   0,   0,   0,   0,   0,   0,   0,   0,   0,   0,   0,\n",
    "      0,   0,   0,   0,   0,   0,   0,   0,   0,   0,   0,   0,   0,   0,   0,   0,   0,   0,   0,   0,\n",
    "      0,   0,   0,   0,   0,   0,   0,   0,   0,   0,   0,   0,   0,   0,   0,   0,   0,   0,   0,   0,\n",
    "      0,   0,   0,   0,   0,   0,   0,   0,   0,   0,   0,   0,   0,   0,   0,   0,   0,   0,   0,   0,\n",
    "      0,   0,   0,   0,   0,   0,   0,   0,   0,   0,   0,   0,   0,   0,   0,   0,   0,   0,   0,   0,\n",
    "      0,   0,   0,   0,   0,   0,   0,   0,   0,   0,   0,   0,   0,   0,   0,   0,   0,   0,   0,   0,\n",
    "      0,   0,   0,   0,   0,   0,   0,   0,   0,   0,   0,   0,   0,   0,   0,   0,   0,   0,   0,   0,\n",
    "      0,   0,   0,   0,   0,   0,   0,   0,   0,   0,   0,   0,   0,   0,   0,   0,   0,   0,   0,   0,\n",
    "      0,   0,   0,   0,   0,   0,   0,   0,   0,   0,   0,   0,   0,   0,   0,   0,   0,   0,   0,   0,\n",
    "      0,   0,   0,   0,   0,   0,   0,   0,   0,   0,   0,   0,   0,   0,   0,   0,   0,   0,   0,   0,\n",
    "      0,   0,   0,   0,   0,   0,   0,   0,   0,   0,   0,   0,   0,   0,   0,   0,   0,   0,   0,   0,\n",
    "      0,   0,   0,   0,   0,   0,   0,   0,   0,   0,   0,   0,   0,   0,   0,   0,   0,   0,   0,   0,\n",
    "      0,   0,   0,   0,   0,   0,   0,   0,   0,   0,   0,   0,   0,   0,   0,   0,   0,   0,   0,   0,\n",
    "      0,   0,   0,   0,   0,   0,   0,   0,   0,   0, 125, 242,  47,  32]\n",
    ")\n"
   ]
  },
  {
   "cell_type": "code",
   "execution_count": 26,
   "metadata": {
    "collapsed": false
   },
   "outputs": [
    {
     "name": "stdout",
     "output_type": "stream",
     "text": [
      "[127, 127, 104, 8, 0, 6]\n",
      "[127, 127, 104, 8, 0, 6]\n"
     ]
    }
   ],
   "source": [
    "def parse_header(data):\n",
    "    header_id, source_id, num_bytes, _, num_data_types = struct.unpack_from('<BBHBB', data)\n",
    "    assert num_bytes+2 == len(data)\n",
    "    assert header_id == 127\n",
    "    assert data_source_id == 127\n",
    "    assert num_data_types == 6\n",
    "    return header_id, source_id, num_bytes, num_data_types\n",
    "\n",
    "header = RSN_SAMPLE_RAW_DATA[:6]\n",
    "\n",
    "print list(header)\n",
    "header_id, source_id, num_bytes, num_data_types = parse_header(RSN_SAMPLE_RAW_DATA)\n",
    "print [header_id, source_id, num_bytes & 0xff, num_bytes >> 8, 0, num_data_types]"
   ]
  },
  {
   "cell_type": "code",
   "execution_count": 32,
   "metadata": {
    "collapsed": false
   },
   "outputs": [
    {
     "name": "stdout",
     "output_type": "stream",
     "text": [
      "[18, 0, 77, 0, 142, 0, 176, 3, 66, 5, 212, 6]\n",
      "[(18, 0), (77, 0), (142, 0), (176, 3), (66, 5), (212, 6)]\n"
     ]
    }
   ],
   "source": [
    "def validate_checksum(data, num_bytes):\n",
    "    calculated_checksum = sum(bytearray(data[:num_bytes])) & 65535\n",
    "    stored_checksum, = struct.unpack_from('<H', data, num_bytes)\n",
    "    assert calculated_checksum == stored_checksum\n",
    "    \n",
    "def extract_offsets(data, num_data_types):\n",
    "    return struct.unpack_from('<%dH' % num_data_types, data, 6)\n",
    "    \n",
    "validate_checksum(RSN_SAMPLE_RAW_DATA, num_bytes)\n",
    "offsets = extract_offsets(RSN_SAMPLE_RAW_DATA, num_data_types)\n",
    "offset_data = list(RSN_SAMPLE_RAW_DATA[6:6+num_data_types*2])\n",
    "\n",
    "print offset_data\n",
    "print [(o & 0xff, o >> 8) for o in offsets]"
   ]
  },
  {
   "cell_type": "code",
   "execution_count": 46,
   "metadata": {
    "collapsed": false
   },
   "outputs": [],
   "source": [
    "chunks = []\n",
    "for i, offset in enumerate(offsets):\n",
    "    if i < len(offsets)-1:\n",
    "        chunks.append(RSN_SAMPLE_RAW_DATA[offset:offsets[i+1]])\n",
    "    else:\n",
    "        chunks.append(RSN_SAMPLE_RAW_DATA[offset:])\n",
    "        \n",
    "fixed_leader_data = chunks[0]\n",
    "fixed_leader_format = '<HBBHBBBBHHHBBBBHBBBBHHBB 3HBBHQHBBIB'\n",
    "\n",
    "fields = struct.unpack(fixed_leader_format, fixed_leader_data)"
   ]
  },
  {
   "cell_type": "code",
   "execution_count": 76,
   "metadata": {
    "collapsed": false
   },
   "outputs": [
    {
     "name": "stdout",
     "output_type": "stream",
     "text": [
      "cpufw 50 50\n",
      "cpurev 40 40\n",
      "sysconfig 16840 16840 200 65\n",
      "realflag 0 0\n",
      "lag 53 53\n",
      "numbeams 4 4\n",
      "numcells 100 100\n",
      "ppe 1 1 1 0\n",
      "cell_length 3200 3200 128 12\n",
      "blank 704 704 192 2\n",
      "sigproc 1 1\n",
      "lowcorr 64 64\n",
      "codereps 17 17\n",
      "good_min 0 0\n",
      "err_thresh 2000 2000 208 7\n",
      "minutes 0 0\n",
      "seconds 1 1\n",
      "hundreths 0 0\n",
      "coord_transform 0 0\n",
      "alignment 0 0 0 0\n",
      "bias 0 0 0 0\n",
      "source 125 125\n",
      "avail 61 61\n",
      "dis1 4075 4075 235 15\n",
      "pulse_length 3344 3344 16 13\n",
      "WLWP 1281 1281 1 5\n",
      "false_thresh 50 50 50 0\n",
      "lagd 198 198 198 0\n",
      "cpu_serial 713015694232387714 [130, 0, 0, 6, 255, 35, 229, 9]\n",
      "bw 0 0 0 0\n",
      "sys_power 255 255\n",
      "serial 18444 [12, 72, 0, 0]\n",
      "angle 20 20\n"
     ]
    }
   ],
   "source": [
    "fid, cpufw, cpurev, sysconfig, realflag, lag, numbeams, numcells, ppe, cell_length, \\\n",
    "blank, sigproc, lowcorr, codereps, good_min, err_thresh, minutes, seconds, hundreths, \\\n",
    "coord_transform, alignment, bias, source, avail, dis1, pulse_length, WLWP, false_thresh, \\\n",
    "spare, lagd, cpu_serial, bw, sys_power, spare2, serial, angle = fields\n",
    "\n",
    "assert fid == 0\n",
    "\n",
    "def le_bytes_to_short(bytes):\n",
    "    return (bytes[1] << 8) + bytes[0]\n",
    "\n",
    "print 'cpufw', cpufw, fixed_leader_data[2]\n",
    "print 'cpurev', cpurev, fixed_leader_data[3]\n",
    "print 'sysconfig', sysconfig, le_bytes_to_short(fixed_leader_data[4:6]), fixed_leader_data[4], fixed_leader_data[5]\n",
    "print 'realflag', realflag, fixed_leader_data[6]\n",
    "print 'lag', lag, fixed_leader_data[7]\n",
    "print 'numbeams', numbeams, fixed_leader_data[8]\n",
    "print 'numcells', numcells, fixed_leader_data[9]\n",
    "print 'ppe', ppe, le_bytes_to_short(fixed_leader_data[10:12]), fixed_leader_data[10], fixed_leader_data[11]\n",
    "print 'cell_length', cell_length, le_bytes_to_short(fixed_leader_data[12:14]), fixed_leader_data[12], fixed_leader_data[13]\n",
    "print 'blank', blank, le_bytes_to_short(fixed_leader_data[14:16]), fixed_leader_data[14], fixed_leader_data[15]\n",
    "print 'sigproc', sigproc, fixed_leader_data[16]\n",
    "print 'lowcorr', lowcorr, fixed_leader_data[17]\n",
    "print 'codereps', codereps, fixed_leader_data[18]\n",
    "print 'good_min', good_min, fixed_leader_data[19]\n",
    "print 'err_thresh', err_thresh, le_bytes_to_short(fixed_leader_data[20:22]), fixed_leader_data[20], fixed_leader_data[21]\n",
    "print 'minutes', minutes, fixed_leader_data[22]\n",
    "print 'seconds', seconds, fixed_leader_data[23]\n",
    "print 'hundreths', hundreths, fixed_leader_data[24]\n",
    "print 'coord_transform', coord_transform, fixed_leader_data[25]\n",
    "print 'alignment', alignment, le_bytes_to_short(fixed_leader_data[26:28]), fixed_leader_data[26], fixed_leader_data[27]\n",
    "print 'bias', bias, le_bytes_to_short(fixed_leader_data[28:30]), fixed_leader_data[28], fixed_leader_data[29]\n",
    "print 'source', source, fixed_leader_data[30]\n",
    "print 'avail', avail, fixed_leader_data[31]\n",
    "print 'dis1', dis1, le_bytes_to_short(fixed_leader_data[32:34]), fixed_leader_data[32], fixed_leader_data[33]\n",
    "print 'pulse_length', pulse_length, le_bytes_to_short(fixed_leader_data[34:36]), fixed_leader_data[34], fixed_leader_data[35]\n",
    "print 'WLWP', WLWP, le_bytes_to_short(fixed_leader_data[36:38]), fixed_leader_data[36], fixed_leader_data[37]\n",
    "print 'false_thresh', false_thresh, le_bytes_to_short(fixed_leader_data[38:40]), fixed_leader_data[38], fixed_leader_data[39]\n",
    "print 'lagd', lagd, le_bytes_to_short(fixed_leader_data[40:42]), fixed_leader_data[40], fixed_leader_data[41]\n",
    "print 'cpu_serial', cpu_serial, list(fixed_leader_data[42:50])\n",
    "print 'bw', bw, le_bytes_to_short(fixed_leader_data[50:52]), fixed_leader_data[50], fixed_leader_data[51]\n",
    "print 'sys_power', sys_power, fixed_leader_data[52]\n",
    "print 'serial', serial, list(fixed_leader_data[54:58])\n",
    "print 'angle', angle, fixed_leader_data[58]"
   ]
  },
  {
   "cell_type": "code",
   "execution_count": 96,
   "metadata": {
    "collapsed": false
   },
   "outputs": [
    {
     "name": "stdout",
     "output_type": "stream",
     "text": [
      "0100 00 01 1 1 00 1 000\n",
      "FREQ: 0\n",
      "BEAM_PATTERN: 1\n",
      "SENSOR_CONFIG: 0\n",
      "XDCR_HEAD_ATTACHED: 1\n",
      "FACING: 1\n",
      "BEAM_ANGLE: 1\n",
      "JANUS_CONFIG: 4\n"
     ]
    }
   ],
   "source": [
    "# parse the bit-packed sysconfig field\n",
    "\"\"\"\n",
    "LSB\n",
    "BITS 7 6 5 4 3 2 1 0\n",
    "     - - - - - 0 0 0 75-kHz SYSTEM\n",
    "     - - - - - 0 0 1 150-kHz SYSTEM\n",
    "     - - - - - 0 1 0 300-kHz SYSTEM\n",
    "     - - - - - 0 1 1 600-kHz SYSTEM\n",
    "     - - - - - 1 0 0 1200-kHz SYSTEM\n",
    "     - - - - - 1 0 1 2400-kHz SYSTEM\n",
    "     - - - - 0 - - - CONCAVE BEAM PAT.\n",
    "     - - - - 1 - - - CONVEX BEAM PAT.\n",
    "     - - 0 0 - - - - SENSOR CONFIG #1\n",
    "     - - 0 1 - - - - SENSOR CONFIG #2\n",
    "     - - 1 0 - - - - SENSOR CONFIG #3\n",
    "     - 0 - - - - - - XDCR HD NOT ATT.\n",
    "     - 1 - - - - - - XDCR HD ATTACHED\n",
    "     0 - - - - - - - DOWN FACING BEAM\n",
    "     1 - - - - - - - UP-FACING BEAM\n",
    "MSB\n",
    "BITS 7 6 5 4 3 2 1 0\n",
    "     - - - - - - 0 0 15E BEAM ANGLE\n",
    "     - - - - - - 0 1 20E BEAM ANGLE\n",
    "     - - - - - - 1 0 30E BEAM ANGLE\n",
    "     - - - - - - 1 1 OTHER BEAM ANGLE\n",
    "     0 1 0 0 - - - - 4-BEAM JANUS CONFIG\n",
    "     0 1 0 1 - - - - 5-BM JANUS CFIG DEMOD)\n",
    "     1 1 1 1 - - - - 5-BM JANUS CFIG.(2 DEMD) \n",
    "\"\"\" \n",
    "\n",
    "bits = '{:016b}'.format(sysconfig)\n",
    "print bits[:4], bits[4:6], bits[6:8], bits[8:9], bits[9:10], bits[10:12], bits[12], bits[13:16]\n",
    "freq = sysconfig & 0b111\n",
    "print 'FREQ:', freq\n",
    "beam_pattern = (sysconfig & 0b1000) >> 3\n",
    "print 'BEAM_PATTERN:', beam_pattern\n",
    "sensor_config = (sysconfig & 0b110000) >> 4\n",
    "print 'SENSOR_CONFIG:', sensor_config\n",
    "xdcr_head_attached = (sysconfig & 0b1000000) >> 6\n",
    "print 'XDCR_HEAD_ATTACHED:', xdcr_head_attached\n",
    "facing = (sysconfig & 0b10000000) >> 7\n",
    "print 'FACING:', facing\n",
    "beam_angle = (sysconfig & 0b1100000000) >> 8\n",
    "print 'BEAM_ANGLE:', beam_angle\n",
    "janus_config = (sysconfig & 0b1111000000000000) >> 12\n",
    "print 'JANUS_CONFIG:', janus_config"
   ]
  },
  {
   "cell_type": "code",
   "execution_count": 98,
   "metadata": {
    "collapsed": false
   },
   "outputs": [
    {
     "name": "stdout",
     "output_type": "stream",
     "text": [
      "000 00 0 0 0\n",
      "0\n",
      "0\n",
      "0\n",
      "0\n"
     ]
    }
   ],
   "source": [
    "\"\"\"\n",
    " xxx00xxx = NO TRANSFORMATION (BEAM COORDINATES)\n",
    " xxx01xxx = INSTRUMENT COORDINATES\n",
    " xxx10xxx = SHIP COORDINATES\n",
    " xxx11xxx = EARTH COORDINATES\n",
    " xxxxx1xx = TILTS (PITCH AND ROLL) USED IN SHIP\n",
    " OR EARTH TRANSFORMATION\n",
    " xxxxxx1x = 3-BEAM SOLUTION USED IF ONE BEAM IS\n",
    " BELOW THE CORRELATION THRESHOLD SET\n",
    " BY THE WC-COMMAND\n",
    " xxxxxxx1 = BIN MAPPING USED\n",
    " \"\"\"\n",
    "transform = coord_transform & 0b11000 >> 3\n",
    "tilts = coord_transform & 0b100 >> 2\n",
    "threebeam = coord_transform & 0b10 >> 1\n",
    "bin_mapping = coord_transform & 0b1\n",
    "\n",
    "bits = '{:08b}'.format(coord_transform)\n",
    "print bits[:3], bits[3:5], bits[5], bits[6], bits[7]\n",
    "print transform\n",
    "print tilts\n",
    "print threebeam\n",
    "print bin_mapping"
   ]
  },
  {
   "cell_type": "code",
   "execution_count": 100,
   "metadata": {
    "collapsed": false
   },
   "outputs": [
    {
     "name": "stdout",
     "output_type": "stream",
     "text": [
      "0 1 1 1 1 1 0 1\n"
     ]
    }
   ],
   "source": [
    "\"\"\"\n",
    "FIELD DESCRIPTION\n",
    " x1xxxxxx = CALCULATES EC (SPEED OF SOUND) FROM\n",
    " ED, ES, AND ET\n",
    " xx1xxxxx = USES ED FROM DEPTH SENSOR\n",
    " xxx1xxxx = USES EH FROM TRANSDUCER HEADING\n",
    " SENSOR\n",
    " xxxx1xxx = USES EP FROM TRANSDUCER PITCH SENSOR\n",
    " xxxxx1xx = USES ER FROM TRANSDUCER ROLL SENSOR\n",
    " xxxxxx1x = USES ES (SALINITY) FROM CONDUCTIVITY\n",
    " SENSOR\n",
    " xxxxxxx1 = USES ET FROM TRANSDUCER TEMPERATURE\n",
    " SENSOR \n",
    "\"\"\"\n",
    "bits = '{:08b}'.format(source)\n",
    "print bits[0], bits[1], bits[2], bits[3], bits[4], bits[5], bits[6], bits[7]"
   ]
  },
  {
   "cell_type": "code",
   "execution_count": null,
   "metadata": {
    "collapsed": true
   },
   "outputs": [],
   "source": []
  }
 ],
 "metadata": {
  "kernelspec": {
   "display_name": "Python 2",
   "language": "python",
   "name": "python2"
  },
  "language_info": {
   "codemirror_mode": {
    "name": "ipython",
    "version": 2
   },
   "file_extension": ".py",
   "mimetype": "text/x-python",
   "name": "python",
   "nbconvert_exporter": "python",
   "pygments_lexer": "ipython2",
   "version": "2.7.9"
  }
 },
 "nbformat": 4,
 "nbformat_minor": 0
}
